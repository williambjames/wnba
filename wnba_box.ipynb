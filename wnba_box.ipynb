{
 "cells": [
  {
   "cell_type": "code",
   "execution_count": 1,
   "metadata": {},
   "outputs": [],
   "source": [
    "import pandas as pd\n",
    "import numpy as np"
   ]
  },
  {
   "cell_type": "code",
   "execution_count": 5,
   "metadata": {},
   "outputs": [],
   "source": [
    "poss = pd.read_csv('poss_21_24.csv')\n",
    "poss = poss.drop(columns=['Unnamed: 0'])"
   ]
  },
  {
   "cell_type": "code",
   "execution_count": 7,
   "metadata": {},
   "outputs": [],
   "source": [
    "def calculate_player_possessions(poss):\n",
    "    \"\"\"\n",
    "    Calculate the number of possessions each player participated in for each game.\n",
    "\n",
    "    Parameters:\n",
    "    - poss: pandas DataFrame with columns 'game_id', 'possession_id', \n",
    "            'off1', 'off2', 'off3', 'off4', 'off5',\n",
    "            'def1', 'def2', 'def3', 'def4', 'def5', 'points_scored'\n",
    "\n",
    "    Returns:\n",
    "    - player_possessions: pandas DataFrame with columns 'game_id', 'playerId', \n",
    "                          'possessions_participated'\n",
    "    \"\"\"\n",
    "    # Define offensive and defensive player columns\n",
    "    off_cols = [f'off{i}' for i in range(1, 6)]\n",
    "    def_cols = [f'def{i}' for i in range(1, 6)]\n",
    "    \n",
    "    # Select only the relevant columns\n",
    "    player_columns = ['game_id', 'possession_id'] + off_cols + def_cols\n",
    "    players_df = poss[player_columns].copy()\n",
    "    \n",
    "    # Melt the offensive players into long format\n",
    "    off_melted = players_df.melt(\n",
    "        id_vars=['game_id', 'possession_id'],\n",
    "        value_vars=off_cols,\n",
    "        var_name='position',\n",
    "        value_name='playerId'\n",
    "    )\n",
    "    off_melted['position'] = 'offense'\n",
    "    \n",
    "    # Melt the defensive players into long format\n",
    "    def_melted = players_df.melt(\n",
    "        id_vars=['game_id', 'possession_id'],\n",
    "        value_vars=def_cols,\n",
    "        var_name='position',\n",
    "        value_name='playerId'\n",
    "    )\n",
    "    def_melted['position'] = 'defense'\n",
    "    \n",
    "    # Combine offensive and defensive players\n",
    "    all_players = pd.concat([off_melted, def_melted], ignore_index=True)\n",
    "    \n",
    "    # Optional: Remove any potential NaN values (if any)\n",
    "    all_players = all_players.dropna(subset=['playerId'])\n",
    "    \n",
    "    # Now, group by 'game_id' and 'playerId' to count unique possessions\n",
    "    player_possessions = all_players.groupby(['game_id', 'playerId'])['possession_id'].nunique().reset_index()\n",
    "    \n",
    "    # Rename the 'possession_id' column to 'possessions_participated'\n",
    "    player_possessions.rename(columns={'possession_id': 'possessions_participated'}, inplace=True)\n",
    "    \n",
    "    # Optional: Sort the results for better readability\n",
    "    player_possessions = player_possessions.sort_values(by=['game_id', 'possessions_participated'], ascending=[True, False]).reset_index(drop=True)\n",
    "    \n",
    "    return player_possessions\n",
    "\n"
   ]
  },
  {
   "cell_type": "code",
   "execution_count": 8,
   "metadata": {},
   "outputs": [],
   "source": [
    "player_possessions_df = calculate_player_possessions(poss)"
   ]
  },
  {
   "cell_type": "code",
   "execution_count": null,
   "metadata": {},
   "outputs": [
    {
     "data": {
      "text/html": [
       "<div>\n",
       "<style scoped>\n",
       "    .dataframe tbody tr th:only-of-type {\n",
       "        vertical-align: middle;\n",
       "    }\n",
       "\n",
       "    .dataframe tbody tr th {\n",
       "        vertical-align: top;\n",
       "    }\n",
       "\n",
       "    .dataframe thead th {\n",
       "        text-align: right;\n",
       "    }\n",
       "</style>\n",
       "<table border=\"1\" class=\"dataframe\">\n",
       "  <thead>\n",
       "    <tr style=\"text-align: right;\">\n",
       "      <th></th>\n",
       "      <th>game_id</th>\n",
       "      <th>playerId</th>\n",
       "      <th>possessions_participated</th>\n",
       "    </tr>\n",
       "  </thead>\n",
       "  <tbody>\n",
       "    <tr>\n",
       "      <th>0</th>\n",
       "      <td>401320565</td>\n",
       "      <td>1013</td>\n",
       "      <td>226</td>\n",
       "    </tr>\n",
       "    <tr>\n",
       "      <th>1</th>\n",
       "      <td>401320565</td>\n",
       "      <td>1014</td>\n",
       "      <td>226</td>\n",
       "    </tr>\n",
       "    <tr>\n",
       "      <th>2</th>\n",
       "      <td>401320565</td>\n",
       "      <td>3142191</td>\n",
       "      <td>226</td>\n",
       "    </tr>\n",
       "    <tr>\n",
       "      <th>3</th>\n",
       "      <td>401320565</td>\n",
       "      <td>3142948</td>\n",
       "      <td>226</td>\n",
       "    </tr>\n",
       "    <tr>\n",
       "      <th>4</th>\n",
       "      <td>401320565</td>\n",
       "      <td>3913903</td>\n",
       "      <td>226</td>\n",
       "    </tr>\n",
       "    <tr>\n",
       "      <th>...</th>\n",
       "      <td>...</td>\n",
       "      <td>...</td>\n",
       "      <td>...</td>\n",
       "    </tr>\n",
       "    <tr>\n",
       "      <th>14075</th>\n",
       "      <td>401726992</td>\n",
       "      <td>4683006</td>\n",
       "      <td>207</td>\n",
       "    </tr>\n",
       "    <tr>\n",
       "      <th>14076</th>\n",
       "      <td>401726992</td>\n",
       "      <td>2529622</td>\n",
       "      <td>117</td>\n",
       "    </tr>\n",
       "    <tr>\n",
       "      <th>14077</th>\n",
       "      <td>401726992</td>\n",
       "      <td>4398768</td>\n",
       "      <td>97</td>\n",
       "    </tr>\n",
       "    <tr>\n",
       "      <th>14078</th>\n",
       "      <td>401726992</td>\n",
       "      <td>2593770</td>\n",
       "      <td>84</td>\n",
       "    </tr>\n",
       "    <tr>\n",
       "      <th>14079</th>\n",
       "      <td>401726992</td>\n",
       "      <td>981</td>\n",
       "      <td>12</td>\n",
       "    </tr>\n",
       "  </tbody>\n",
       "</table>\n",
       "<p>14080 rows × 3 columns</p>\n",
       "</div>"
      ],
      "text/plain": [
       "         game_id  playerId  possessions_participated\n",
       "0      401320565      1013                       226\n",
       "1      401320565      1014                       226\n",
       "2      401320565   3142191                       226\n",
       "3      401320565   3142948                       226\n",
       "4      401320565   3913903                       226\n",
       "...          ...       ...                       ...\n",
       "14075  401726992   4683006                       207\n",
       "14076  401726992   2529622                       117\n",
       "14077  401726992   4398768                        97\n",
       "14078  401726992   2593770                        84\n",
       "14079  401726992       981                        12\n",
       "\n",
       "[14080 rows x 3 columns]"
      ]
     },
     "execution_count": 16,
     "metadata": {},
     "output_type": "execute_result"
    },
    {
     "ename": "",
     "evalue": "",
     "output_type": "error",
     "traceback": [
      "\u001b[1;31mThe Kernel crashed while executing code in the current cell or a previous cell. \n",
      "\u001b[1;31mPlease review the code in the cell(s) to identify a possible cause of the failure. \n",
      "\u001b[1;31mClick <a href='https://aka.ms/vscodeJupyterKernelCrash'>here</a> for more info. \n",
      "\u001b[1;31mView Jupyter <a href='command:jupyter.viewOutput'>log</a> for further details."
     ]
    }
   ],
   "source": [
    "player_possessions_df"
   ]
  },
  {
   "cell_type": "code",
   "execution_count": null,
   "metadata": {},
   "outputs": [
    {
     "data": {
      "text/plain": [
       "array([   1013, 2593770, 2566211])"
      ]
     },
     "execution_count": 15,
     "metadata": {},
     "output_type": "execute_result"
    }
   ],
   "source": [
    "bo"
   ]
  }
 ],
 "metadata": {
  "kernelspec": {
   "display_name": "Python 3",
   "language": "python",
   "name": "python3"
  },
  "language_info": {
   "codemirror_mode": {
    "name": "ipython",
    "version": 3
   },
   "file_extension": ".py",
   "mimetype": "text/x-python",
   "name": "python",
   "nbconvert_exporter": "python",
   "pygments_lexer": "ipython3",
   "version": "3.12.6"
  }
 },
 "nbformat": 4,
 "nbformat_minor": 2
}
